{
  "cells": [
    {
      "cell_type": "markdown",
      "metadata": {
        "id": "view-in-github",
        "colab_type": "text"
      },
      "source": [
        "<a href=\"https://colab.research.google.com/github/pablinesamara/pythonHashtag/blob/main/ExerciciosModulo1.ipynb\" target=\"_parent\"><img src=\"https://colab.research.google.com/assets/colab-badge.svg\" alt=\"Open In Colab\"/></a>"
      ]
    },
    {
      "cell_type": "markdown",
      "metadata": {
        "id": "Pi-CJIef1ul1"
      },
      "source": [
        "# Exercícios do Módulo 1 - Operações, Variáveis e Input"
      ]
    },
    {
      "cell_type": "markdown",
      "metadata": {
        "id": "FJ2bFoIx1umA"
      },
      "source": [
        "### Parte 1 - Operações e Variáveis\n",
        "Crie um programa que imprima (print) os principais indicadores da loja Hashtag&Drink no último ano.\n",
        "Obs: faça tudo usando variáveis.\n",
        "\n",
        "Valores do último ano:\n",
        "\n",
        "Quantidade de Vendas de Coca = 150<br>\n",
        "Quantidade de Vendas de Pepsi = 130<br>\n",
        "Preço Unitário da Coca = 1,50 <br>\n",
        "Preço Unitário da Pepsi = 1,50<br>\n",
        "Custo da Loja: 2.500,00\n",
        "\n",
        "Use o bloco abaixo para criar todas as variáveis que precisar."
      ]
    },
    {
      "cell_type": "code",
      "execution_count": 12,
      "metadata": {
        "id": "8ou0OBBX1umC"
      },
      "outputs": [],
      "source": [
        "loja = 'Hashtag&Drink'\n",
        "qtdVendasCoca= 150\n",
        "qtdVendasPepsi= 130\n",
        "precoCoca=1.5\n",
        "precoPepsi=1.5\n",
        "CustoLoja=2500.00\n",
        "\n",
        "\n"
      ]
    },
    {
      "cell_type": "markdown",
      "metadata": {
        "id": "fW0kX-qN1umD"
      },
      "source": [
        "1. Qual foi o faturamento de Pepsi da Loja?"
      ]
    },
    {
      "cell_type": "code",
      "execution_count": 13,
      "metadata": {
        "id": "zsBMI5vg1umE",
        "colab": {
          "base_uri": "https://localhost:8080/"
        },
        "outputId": "7ef9565f-3ccd-4b12-fd2f-23186e364f51"
      },
      "outputs": [
        {
          "output_type": "stream",
          "name": "stdout",
          "text": [
            "Valor do faturamento com Pepsi = R$195.0\n"
          ]
        }
      ],
      "source": [
        "faturamentoPepsi= precoPepsi*qtdVendasPepsi\n",
        "print(f'Valor do faturamento com Pepsi = R${faturamentoPepsi}')"
      ]
    },
    {
      "cell_type": "markdown",
      "metadata": {
        "id": "xgxOvmRz1umF"
      },
      "source": [
        "2. Qual foi o faturamento de Coca da Loja?"
      ]
    },
    {
      "cell_type": "code",
      "execution_count": 14,
      "metadata": {
        "id": "NpsI_giv1umG",
        "colab": {
          "base_uri": "https://localhost:8080/"
        },
        "outputId": "66afe3ae-4957-4216-a5a8-386ec1823fc5"
      },
      "outputs": [
        {
          "output_type": "stream",
          "name": "stdout",
          "text": [
            "Valor do faturamento com Coca = R$225.0\n"
          ]
        }
      ],
      "source": [
        "faturamentoCoca= precoCoca*qtdVendasCoca\n",
        "print(f'Valor do faturamento com Coca = R${faturamentoCoca}')"
      ]
    },
    {
      "cell_type": "markdown",
      "metadata": {
        "id": "8D_0mYbI1umH"
      },
      "source": [
        "3. Qual foi o Lucro da loja?"
      ]
    },
    {
      "cell_type": "code",
      "execution_count": 17,
      "metadata": {
        "id": "doMwJLC-1umI",
        "colab": {
          "base_uri": "https://localhost:8080/"
        },
        "outputId": "90f70829-bdc7-476b-cedf-5fe59a94478e"
      },
      "outputs": [
        {
          "output_type": "stream",
          "name": "stdout",
          "text": [
            "Lucro  foi de = R$ -2080.0\n"
          ]
        }
      ],
      "source": [
        "lucro= (faturamentoCoca+faturamentoPepsi)- CustoLoja\n",
        "print(f'Lucro  foi de = R$ {lucro}')"
      ]
    },
    {
      "cell_type": "markdown",
      "metadata": {
        "id": "bdua5-Ct1umJ"
      },
      "source": [
        "4. Qual foi a Margem da Loja? (Lembre-se, margem = Lucro / Faturamento). Não precisa formatar em percentual"
      ]
    },
    {
      "cell_type": "code",
      "execution_count": 18,
      "metadata": {
        "id": "ySAB6BNL1umK",
        "colab": {
          "base_uri": "https://localhost:8080/"
        },
        "outputId": "0965c7dd-b4f2-4b5b-e263-4616a1534ebc"
      },
      "outputs": [
        {
          "output_type": "stream",
          "name": "stdout",
          "text": [
            "Margem = R$ -9.244444444444444\n"
          ]
        }
      ],
      "source": [
        "margem = lucro/faturamentoCoca\n",
        "print(f'Margem = R$ {margem}')"
      ]
    },
    {
      "cell_type": "markdown",
      "metadata": {
        "id": "D1mYymiP1umL"
      },
      "source": [
        "### Parte 2 - Inputs e Strings"
      ]
    },
    {
      "cell_type": "markdown",
      "metadata": {
        "id": "mcbTaP8b1umN"
      },
      "source": [
        "A maioria das empresas trabalham com um Código para cada produto que possuem. A Hashtag&Drink, por exemplo, tem mais de 1.000 produtos e possui um código para cada produto.\n",
        "Ex:\n",
        "Coca -> Código: BEB1300543<br>\n",
        "Pepsi -> Código: BEB1300545<br>\n",
        "Vinho Primitivo Lucarelli -> Código: BAC1546001<br>\n",
        "Vodka Smirnoff -> Código: BAC17675002<br>\n",
        "\n",
        "Repare que todas as bebidas não alcóolicas tem o início do Código \"BEB\" e todas as bebidas alcóolicas tem o início do código \"BAC\".\n",
        "\n",
        "Crie um programa de consulta de bebida que, dado um código qualquer, identifique se a bebida é alcóolica. O programa deve responder True para bebidas alcóolicas e False para bebidas não alcóolicas. Para inserir um código, use um input.\n",
        "\n",
        "Dica: Lembre-se do comando in para strings e sempre insira os códigos com letra maiúscula para facilitar."
      ]
    },
    {
      "cell_type": "code",
      "execution_count": 20,
      "metadata": {
        "id": "IUrYt1hs1umQ",
        "colab": {
          "base_uri": "https://localhost:8080/"
        },
        "outputId": "7e36e0d8-3ec2-4520-9a5d-b90075750475"
      },
      "outputs": [
        {
          "output_type": "stream",
          "name": "stdout",
          "text": [
            "Digite o codigo do produto utilizando letras maiusculas :BAC17675002\n",
            "True\n"
          ]
        }
      ],
      "source": [
        "codigo = input(\"Digite o codigo do produto utilizando letras maiusculas :\")\n",
        "print(\"BAC\" in codigo)"
      ]
    },
    {
      "cell_type": "markdown",
      "source": [
        "Exibe o tipo da variavel :"
      ],
      "metadata": {
        "id": "lLw2exKZ1eig"
      }
    },
    {
      "cell_type": "code",
      "source": [
        "type (faturamentoCoca)"
      ],
      "metadata": {
        "colab": {
          "base_uri": "https://localhost:8080/"
        },
        "id": "MIcDWOo81R6B",
        "outputId": "5f2a82d1-3785-480f-d11f-3eefd403ac0d"
      },
      "execution_count": 21,
      "outputs": [
        {
          "output_type": "execute_result",
          "data": {
            "text/plain": [
              "float"
            ]
          },
          "metadata": {},
          "execution_count": 21
        }
      ]
    },
    {
      "cell_type": "markdown",
      "source": [
        "Concatenar string + variavel em formato string"
      ],
      "metadata": {
        "id": "vHdlBixN2OcK"
      }
    },
    {
      "cell_type": "code",
      "source": [
        "faturamento =1000\n",
        "print('O faturamento da loja é '  + str (faturamento ))"
      ],
      "metadata": {
        "colab": {
          "base_uri": "https://localhost:8080/"
        },
        "id": "pEMfHXoF1wMJ",
        "outputId": "eacd4ffe-287c-4c40-b0b9-0d0ec57a0fb4"
      },
      "execution_count": 24,
      "outputs": [
        {
          "output_type": "stream",
          "name": "stdout",
          "text": [
            "O faturamento da loja é 1000\n"
          ]
        }
      ]
    },
    {
      "cell_type": "markdown",
      "source": [
        "Metodo Format E Metodo f-strin g"
      ],
      "metadata": {
        "id": "9Kt9zW4n3rYl"
      }
    },
    {
      "cell_type": "code",
      "source": [
        "faturamento=2000\n",
        "custo=500\n",
        "lucro=faturamento-custo\n",
        "#Metodo Format\n",
        "print('O Faturamento da loja foi {}, o custo foi {}   e o Lucro {}' .format(faturamento, custo,lucro))\n",
        "#f-string\n",
        "print(f'O Faturamento da loja foi {faturamento}, o custo foi {custo}   e o Lucro {lucro}')"
      ],
      "metadata": {
        "colab": {
          "base_uri": "https://localhost:8080/"
        },
        "id": "LY11c-Zq3n0L",
        "outputId": "d27de922-6aac-4064-e095-44e5dca83baf"
      },
      "execution_count": 28,
      "outputs": [
        {
          "output_type": "stream",
          "name": "stdout",
          "text": [
            "O Faturamento da loja foi 2000, o custo foi 500   e o Lucro 1500\n",
            "O Faturamento da loja foi 2000, o custo foi 500   e o Lucro 1500\n"
          ]
        }
      ]
    },
    {
      "cell_type": "markdown",
      "source": [
        "Mudança de tipo de variaveis\n",
        "\n",
        "converte string reebida pelo usuario no tipo informado"
      ],
      "metadata": {
        "id": "TcP8CjVr7ODB"
      }
    },
    {
      "cell_type": "code",
      "source": [
        "faturamento= float(input(\"Digite o valor do faturamento :\"))\n",
        "custo= float(input(\"Digite o valor do custo :\"))\n",
        "print(type(faturamento))\n",
        "print(type(custo))\n",
        "\n"
      ],
      "metadata": {
        "id": "IETQvwmD7Nfs"
      },
      "execution_count": null,
      "outputs": []
    }
  ],
  "metadata": {
    "kernelspec": {
      "display_name": "Python 3",
      "language": "python",
      "name": "python3"
    },
    "language_info": {
      "codemirror_mode": {
        "name": "ipython",
        "version": 3
      },
      "file_extension": ".py",
      "mimetype": "text/x-python",
      "name": "python",
      "nbconvert_exporter": "python",
      "pygments_lexer": "ipython3",
      "version": "3.8.3"
    },
    "colab": {
      "provenance": [],
      "include_colab_link": true
    }
  },
  "nbformat": 4,
  "nbformat_minor": 0
}